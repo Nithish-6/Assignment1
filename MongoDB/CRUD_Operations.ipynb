{
 "cells": [
  {
   "cell_type": "code",
   "execution_count": 4,
   "id": "9da201c8",
   "metadata": {},
   "outputs": [],
   "source": [
    "from pymongo import MongoClient\n",
    "import json"
   ]
  },
  {
   "cell_type": "code",
   "execution_count": 9,
   "id": "ed9c8fe4",
   "metadata": {},
   "outputs": [
    {
     "name": "stdout",
     "output_type": "stream",
     "text": [
      "['admin', 'books', 'config', 'local', 'sales', 'studentDB', 'telephoneDir', 'test']\n"
     ]
    }
   ],
   "source": [
    "cluster = \"mongodb://localhost:27017\"\n",
    "\n",
    "client = MongoClient(cluster)\n",
    "print(client.list_database_names())"
   ]
  },
  {
   "cell_type": "code",
   "execution_count": 6,
   "id": "d3ec3719",
   "metadata": {},
   "outputs": [],
   "source": [
    "db = client[\"telephoneDir\"]\n",
    "collection = db.dirCollect"
   ]
  },
  {
   "cell_type": "code",
   "execution_count": 8,
   "id": "08fb62bd",
   "metadata": {},
   "outputs": [
    {
     "data": {
      "text/plain": [
       "<pymongo.results.InsertManyResult at 0x1defb7939a0>"
      ]
     },
     "execution_count": 8,
     "metadata": {},
     "output_type": "execute_result"
    }
   ],
   "source": [
    "#CREATE\n",
    "\n",
    "first_names=['Raj','Chris','Tobie','Scarlet','Tony','Bruce','Steve']\n",
    "last_names=['Kumar','Hemsworth','Maguire','Witch','Start','Banner','Rogers']\n",
    "ages=['23','35','28','30','40','38','55']\n",
    "phone_numbers=['9994561321','9494561321','9994531321','9923361321','9998961321','9990061321','9094561321']\n",
    "\n",
    "docs=[]\n",
    "\n",
    "for first_name,last_name,age,phone_number in zip (first_names,last_names,ages,phone_numbers):\n",
    "    doc = {'first_name':first_name,'last_name':last_name,'age':age,'phone_number':phone_number}\n",
    "    docs.append(doc)\n",
    "\n",
    "collection.insert_many(docs)"
   ]
  },
  {
   "cell_type": "code",
   "execution_count": 14,
   "id": "93a4049d",
   "metadata": {},
   "outputs": [
    {
     "name": "stdout",
     "output_type": "stream",
     "text": [
      "{'_id': ObjectId('63aa787e6a10debfa18311a6'), 'first_name': 'Raj', 'last_name': 'Kumar', 'age': '23', 'phone_number': '9994561321'}\n",
      "{'_id': ObjectId('63aa787e6a10debfa18311a7'), 'first_name': 'Chris', 'last_name': 'Hemsworth', 'age': '35', 'phone_number': '9494561321'}\n",
      "{'_id': ObjectId('63aa787e6a10debfa18311a8'), 'first_name': 'Tobie', 'last_name': 'Maguire', 'age': '28', 'phone_number': '9994531321'}\n",
      "{'_id': ObjectId('63aa787e6a10debfa18311a9'), 'first_name': 'Scarlet', 'last_name': 'Witch', 'age': '30', 'phone_number': '9923361321'}\n",
      "{'_id': ObjectId('63aa787e6a10debfa18311aa'), 'first_name': 'Tony', 'last_name': 'Start', 'age': '40', 'phone_number': '9998961321'}\n",
      "{'_id': ObjectId('63aa787e6a10debfa18311ab'), 'first_name': 'Bruce', 'last_name': 'Banner', 'age': '38', 'phone_number': '9990061321'}\n",
      "{'_id': ObjectId('63aa787e6a10debfa18311ac'), 'first_name': 'Steve', 'last_name': 'Rogers', 'age': '55', 'phone_number': '9094561321'}\n",
      "{'_id': ObjectId('63aa7c576a10debfa18311ae'), 'first_name': 'Prince', 'last_name': 'Dchalla', 'age': '32', 'phone_number': '9449243321'}\n"
     ]
    }
   ],
   "source": [
    "#RETRIEVE\n",
    "\n",
    "results=collection.find()\n",
    "for result in results:\n",
    "    print(result)"
   ]
  },
  {
   "cell_type": "code",
   "execution_count": 13,
   "id": "1f814d59",
   "metadata": {},
   "outputs": [
    {
     "data": {
      "text/plain": [
       "<pymongo.results.InsertOneResult at 0x1defb7a4af0>"
      ]
     },
     "execution_count": 13,
     "metadata": {},
     "output_type": "execute_result"
    }
   ],
   "source": [
    "#INSERT\n",
    "\n",
    "new_doc={'first_name':'Prince','last_name':'Dchalla','age':'32','phone_number':'9449243321'}\n",
    "collection.insert_one(new_doc)"
   ]
  },
  {
   "cell_type": "code",
   "execution_count": 17,
   "id": "f85cbc75",
   "metadata": {},
   "outputs": [
    {
     "name": "stdout",
     "output_type": "stream",
     "text": [
      "{'_id': ObjectId('63aa7c576a10debfa18311ae'), 'first_name': 'Prince', 'last_name': 'Dchalla', 'age': '32', 'phone_number': '9449243321'}\n"
     ]
    }
   ],
   "source": [
    "#Find the inserted record\n",
    "result=collection.find_one({'last_name':'Dchalla'})\n",
    "print(result)"
   ]
  },
  {
   "cell_type": "code",
   "execution_count": 18,
   "id": "84e80b52",
   "metadata": {},
   "outputs": [
    {
     "name": "stdout",
     "output_type": "stream",
     "text": [
      "{'_id': ObjectId('63aa787e6a10debfa18311a7'), 'first_name': 'Chris', 'last_name': 'Evans', 'age': '35', 'phone_number': '9494561321'}\n"
     ]
    }
   ],
   "source": [
    "#UPDATE\n",
    "\n",
    "collection.update_one({'first_name':'Chris'},{'$set':{'last_name':'Evans'}})\n",
    "result=collection.find_one({'last_name':'Evans'})\n",
    "print(result)"
   ]
  },
  {
   "cell_type": "code",
   "execution_count": 20,
   "id": "bc3f4dcd",
   "metadata": {},
   "outputs": [
    {
     "name": "stdout",
     "output_type": "stream",
     "text": [
      "{'_id': ObjectId('63aa787e6a10debfa18311a6'), 'first_name': 'Raj', 'last_name': 'Kumar', 'age': '23', 'phone_number': '9994561321'}\n",
      "{'_id': ObjectId('63aa787e6a10debfa18311a7'), 'first_name': 'Chris', 'last_name': 'Evans', 'age': '35', 'phone_number': '9494561321'}\n",
      "{'_id': ObjectId('63aa787e6a10debfa18311a8'), 'first_name': 'Tobie', 'last_name': 'Maguire', 'age': '28', 'phone_number': '9994531321'}\n",
      "{'_id': ObjectId('63aa787e6a10debfa18311aa'), 'first_name': 'Tony', 'last_name': 'Start', 'age': '40', 'phone_number': '9998961321'}\n",
      "{'_id': ObjectId('63aa787e6a10debfa18311ab'), 'first_name': 'Bruce', 'last_name': 'Banner', 'age': '38', 'phone_number': '9990061321'}\n",
      "{'_id': ObjectId('63aa787e6a10debfa18311ac'), 'first_name': 'Steve', 'last_name': 'Rogers', 'age': '55', 'phone_number': '9094561321'}\n",
      "{'_id': ObjectId('63aa7c576a10debfa18311ae'), 'first_name': 'Prince', 'last_name': 'Dchalla', 'age': '32', 'phone_number': '9449243321'}\n"
     ]
    }
   ],
   "source": [
    "#DELETE\n",
    "\n",
    "collection.delete_one({'last_name':'Witch'})\n",
    "results=collection.find()\n",
    "for result in results:\n",
    "    print(result)"
   ]
  }
 ],
 "metadata": {
  "kernelspec": {
   "display_name": "Python 3 (ipykernel)",
   "language": "python",
   "name": "python3"
  },
  "language_info": {
   "codemirror_mode": {
    "name": "ipython",
    "version": 3
   },
   "file_extension": ".py",
   "mimetype": "text/x-python",
   "name": "python",
   "nbconvert_exporter": "python",
   "pygments_lexer": "ipython3",
   "version": "3.9.13"
  }
 },
 "nbformat": 4,
 "nbformat_minor": 5
}
