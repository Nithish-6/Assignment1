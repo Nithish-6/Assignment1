{
 "cells": [
  {
   "cell_type": "code",
   "execution_count": 7,
   "id": "343af091",
   "metadata": {},
   "outputs": [],
   "source": [
    "from pymongo import MongoClient\n",
    "import json"
   ]
  },
  {
   "cell_type": "code",
   "execution_count": 11,
   "id": "4b1fe17c",
   "metadata": {},
   "outputs": [
    {
     "name": "stdout",
     "output_type": "stream",
     "text": [
      "['admin', 'books', 'config', 'local', 'sales', 'studentDB', 'telephoneDir', 'test']\n"
     ]
    }
   ],
   "source": [
    "cluster = \"mongodb://localhost:27017\"\n",
    "\n",
    "client = MongoClient(cluster)\n",
    "print(client.list_database_names())\n",
    "\n",
    "db = client[\"studentDB\"]\n"
   ]
  },
  {
   "cell_type": "code",
   "execution_count": 12,
   "id": "12a96b76",
   "metadata": {},
   "outputs": [],
   "source": [
    "collection = db.studentsCollection\n",
    "#data = [json.loads(line) for line in open('students.json')]\n",
    "\n",
    "#collection.insert_many(data) \n"
   ]
  },
  {
   "cell_type": "markdown",
   "id": "46c85f42",
   "metadata": {},
   "source": [
    " Find the student name who scored maximum scores in all (exam, quiz and homework)?"
   ]
  },
  {
   "cell_type": "code",
   "execution_count": 18,
   "id": "03cfe1fd",
   "metadata": {},
   "outputs": [
    {
     "ename": "TypeError",
     "evalue": "unhashable type: 'dict'",
     "output_type": "error",
     "traceback": [
      "\u001b[1;31m---------------------------------------------------------------------------\u001b[0m",
      "\u001b[1;31mTypeError\u001b[0m                                 Traceback (most recent call last)",
      "\u001b[1;32m~\\AppData\\Local\\Temp\\ipykernel_14440\\732235808.py\u001b[0m in \u001b[0;36m<module>\u001b[1;34m\u001b[0m\n\u001b[0;32m      3\u001b[0m         {\n\u001b[0;32m      4\u001b[0m             \u001b[1;34m\"$group\"\u001b[0m\u001b[1;33m:\u001b[0m\u001b[1;33m\u001b[0m\u001b[1;33m\u001b[0m\u001b[0m\n\u001b[1;32m----> 5\u001b[1;33m             {\n\u001b[0m\u001b[0;32m      6\u001b[0m                 \u001b[1;34m\"name\"\u001b[0m\u001b[1;33m,\u001b[0m\u001b[1;33m\u001b[0m\u001b[1;33m\u001b[0m\u001b[0m\n\u001b[0;32m      7\u001b[0m                 \u001b[1;33m{\u001b[0m\u001b[1;34m\"$max\"\u001b[0m\u001b[1;33m:\u001b[0m\u001b[1;34m\"score\"\u001b[0m\u001b[1;33m}\u001b[0m\u001b[1;33m\u001b[0m\u001b[1;33m\u001b[0m\u001b[0m\n",
      "\u001b[1;31mTypeError\u001b[0m: unhashable type: 'dict'"
     ]
    }
   ],
   "source": [
    "results = collection.find(\n",
    "    [\n",
    "        {\n",
    "            \"$group\":\n",
    "            {\n",
    "                \"name\",\n",
    "                {\"$max\":\"score\"}\n",
    "            }\n",
    "        }\n",
    "    ]\n",
    ")\n",
    "\n"
   ]
  },
  {
   "cell_type": "code",
   "execution_count": null,
   "id": "fa21e9b4",
   "metadata": {},
   "outputs": [],
   "source": []
  }
 ],
 "metadata": {
  "kernelspec": {
   "display_name": "Python 3 (ipykernel)",
   "language": "python",
   "name": "python3"
  },
  "language_info": {
   "codemirror_mode": {
    "name": "ipython",
    "version": 3
   },
   "file_extension": ".py",
   "mimetype": "text/x-python",
   "name": "python",
   "nbconvert_exporter": "python",
   "pygments_lexer": "ipython3",
   "version": "3.9.13"
  }
 },
 "nbformat": 4,
 "nbformat_minor": 5
}
